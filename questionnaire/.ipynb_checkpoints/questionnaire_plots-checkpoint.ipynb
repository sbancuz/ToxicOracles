{
 "cells": [
  {
   "cell_type": "code",
   "execution_count": 33,
   "metadata": {},
   "outputs": [],
   "source": [
    "import csv\n",
    "from typing import List, Dict\n",
    "\n",
    "if both:\n",
    "    csv_files = [csv_file_name.format(v) for v in ['v1', 'v2']]\n",
    "else:\n",
    "    VERSION = 'v2'\n",
    "    csv_files = ['[icse 2025] toxic survey - {}.csv'.format(VERSION)]\n",
    "\n",
    "ita_to_likert = {'Per nulla tossico': 0, 'Poco tossico': 1, 'Moderatamente tossico': 2, 'Abbastanza tossico': 3, 'Molto tossico': 4}\n",
    "ita_to_genders = {'Femmina': 'F', 'Maschio': 'M'}\n",
    "\n",
    "entries = []\n",
    "def_keys = ['role', 'experience', 'gender', 'age']\n",
    "\n",
    "def map_value(v):\n",
    "    if v in ita_to_likert:\n",
    "        return ita_to_likert[v]\n",
    "    elif v in ita_to_genders:\n",
    "        return ita_to_genders[v]\n",
    "    elif len(v) == 0:\n",
    "        return None\n",
    "    else:\n",
    "        try:\n",
    "            return int(v)\n",
    "        except ValueError:\n",
    "            return v\n",
    "\n",
    "init_or_evolved: Dict[str, str] = dict()        \n",
    "        \n",
    "for n_f, csv_file in enumerate(csv_files):\n",
    "    q_indexes = ['Q{}'.format(30*n_f+i+1) for i in range(30)]\n",
    "    keys = def_keys + q_indexes\n",
    "    with open(csv_file) as f:\n",
    "        reader = csv.reader(f)\n",
    "        \n",
    "        for i, row in enumerate(reader):\n",
    "            # ignores headers, first participant to v1, and rows summing initial/evolved.\n",
    "            if i==0 or (n_f == 0 and i==2) or (i!=1 and row[0]==''): \n",
    "                continue\n",
    "            # processes the row where each question is labeled as initial/evolved.\n",
    "            elif (i==1):\n",
    "                for q_i, q in enumerate(row[4:]):\n",
    "                    init_or_evolved[q_indexes[q_i]] = q\n",
    "                continue\n",
    "                \n",
    "            # processes participants' evaluations.    \n",
    "            entries.append({keys[j]: map_value(col) for j, col in enumerate(row)}) "
   ]
  },
  {
   "cell_type": "code",
   "execution_count": 34,
   "metadata": {},
   "outputs": [
    {
     "name": "stdout",
     "output_type": "stream",
     "text": [
      "Participants: 28\n",
      "\n",
      "Males: 25.000%\n",
      "Females: 75.000%\n",
      "\n",
      "Psicoterapeuta: 50.000%\n",
      "Psicoterapeuta in formazione: 28.571%\n",
      "Psicologo in ambito di ricerca: 21.429%\n",
      "\n",
      "\n",
      "Age [0, 20]: 0.000%\n",
      "Age [20, 25]: 3.571%\n",
      "Age [25, 30]: 32.143%\n",
      "Age [30, 35]: 17.857%\n",
      "Age [35, 40]: 25.000%\n",
      "Age [40, 50]: 17.857%\n",
      "Age [50, 100]: 3.571%\n",
      "\n",
      "\n",
      "Exp. [0, 2]: 10.714%\n",
      "Exp. [2, 5]: 39.286%\n",
      "Exp. [5, 10]: 42.857%\n",
      "Exp. [10, 15]: 3.571%\n",
      "Exp. [15, 20]: 0.000%\n",
      "Exp. [20, 25]: 3.571%\n",
      "Exp. [25, 30]: 0.000%\n",
      "Exp. [30, 100]: 0.000%\n"
     ]
    }
   ],
   "source": [
    "# Stats\n",
    "\n",
    "print('Participants: {}\\n'.format(len(entries)))\n",
    "\n",
    "males = [e for e in entries if e['gender']=='M']\n",
    "females = [e for e in entries if e['gender']=='F']\n",
    "\n",
    "print('Males: {:.3f}%\\nFemales: {:.3f}%\\n'.format(len(males)/len(entries)*100, len(females)/len(entries)*100))\n",
    "\n",
    "roles = set([e['role'] for e in entries])\n",
    "for role in roles:\n",
    "    pop = [e for e in entries if e['role']==role]\n",
    "    print('{}: {:.3f}%'.format(role, len(pop)/len(entries)*100))\n",
    "\n",
    "print('\\n')\n",
    "age_bins = [(0, 20), (20, 25), (25, 30), (30, 35), (35, 40), (40, 50), (50, 100)]\n",
    "for b in age_bins:\n",
    "    pop = [e for e in entries if b[0]<e['age']<=b[1]]\n",
    "    print('Age [{}, {}]: {:.3f}%'.format(b[0], b[1], len(pop)/len(entries)*100))\n",
    "    \n",
    "print('\\n')\n",
    "age_bins = [(0, 2), (2, 5), (5, 10), (10, 15), (15, 20), (20, 25), (25, 30), (30, 100)]\n",
    "for b in age_bins:\n",
    "    pop = [e for e in entries if b[0]<e['experience']<=b[1]]\n",
    "    print('Exp. [{}, {}]: {:.3f}%'.format(b[0], b[1], len(pop)/len(entries)*100))\n",
    "    "
   ]
  },
  {
   "cell_type": "code",
   "execution_count": 37,
   "metadata": {
    "scrolled": true
   },
   "outputs": [
    {
     "name": "stderr",
     "output_type": "stream",
     "text": [
      "/opt/anaconda3/lib/python3.7/site-packages/matplotlib/cbook/__init__.py:1420: VisibleDeprecationWarning: Creating an ndarray from ragged nested sequences (which is a list-or-tuple of lists-or-tuples-or ndarrays with different lengths or shapes) is deprecated. If you meant to do this, you must specify 'dtype=object' when creating the ndarray.\n",
      "  X = np.atleast_1d(X.T if isinstance(X, np.ndarray) else np.asarray(X))\n"
     ]
    },
    {
     "data": {
      "image/png": "[encoded data removed]",
      "text/plain": [
       "<Figure size 1800x360 with 1 Axes>"
      ]
     },
     "metadata": {
      "needs_background": "light"
     },
     "output_type": "display_data"
    }
   ],
   "source": [
    "import matplotlib.pyplot as plt\n",
    "\n",
    "# Distribuzione score per domanda\n",
    "\n",
    "plt.figure(figsize=(25, 5))\n",
    "\n",
    "x = ['Q{}'.format(i+1) for i in range(60)]\n",
    "y = [[e[q] for e in entries if q in e and e[q] is not None] for q in x]\n",
    "\n",
    "plt.boxplot(y, labels=x)\n",
    "plt.yticks(ticks=list(ita_to_likert.values()))\n",
    "\n",
    "plt.show()\n"
   ]
  },
  {
   "cell_type": "code",
   "execution_count": 36,
   "metadata": {},
   "outputs": [
    {
     "name": "stderr",
     "output_type": "stream",
     "text": [
      "/opt/anaconda3/lib/python3.7/site-packages/statsmodels/tools/_testing.py:19: FutureWarning: pandas.util.testing is deprecated. Use the functions in the public API at pandas.testing instead.\n",
      "  import pandas.util.testing as tm\n"
     ]
    },
    {
     "name": "stdout",
     "output_type": "stream",
     "text": [
      "(V1) Questions 1-30: 0.46742075523010457\n",
      "(V2) Questions 31-60: 0.4908631040940995\n"
     ]
    }
   ],
   "source": [
    "import statsmodels.stats.inter_rater as st\n",
    "import numpy as np\n",
    "\n",
    "# Inter-rater Agreement Index\n",
    "\n",
    "questions = ['Q{}'.format(i+1) for i in range(60)]\n",
    "evaluations = [[e[q] for e in entries if q in e and e[q] is not None] for q in x]\n",
    "\n",
    "# Questions 1-30 (v1, all participants)\n",
    "\n",
    "data, categories = st.aggregate_raters(np.array(evaluations[:30]), n_cat=5)\n",
    "fleiss_k = st.fleiss_kappa(data, method='fleiss')\n",
    "print('(V1) Questions 1-30: {}'.format(fleiss_k))\n",
    "\n",
    "# Questions 30-60 (v2, all participants)\n",
    "\n",
    "data, categories = st.aggregate_raters(np.array(evaluations[30:]), n_cat=5)\n",
    "fleiss_k = st.fleiss_kappa(data, method='fleiss')\n",
    "print('(V2) Questions 31-60: {}'.format(fleiss_k))\n"
   ]
  },
  {
   "cell_type": "code",
   "execution_count": null,
   "metadata": {},
   "outputs": [],
   "source": []
  }
 ],
 "metadata": {
  "kernelspec": {
   "display_name": "Python 3",
   "language": "python",
   "name": "python3"
  },
  "language_info": {
   "codemirror_mode": {
    "name": "ipython",
    "version": 3
   },
   "file_extension": ".py",
   "mimetype": "text/x-python",
   "name": "python",
   "nbconvert_exporter": "python",
   "pygments_lexer": "ipython3",
   "version": "3.7.4"
  }
 },
 "nbformat": 4,
 "nbformat_minor": 2
}
