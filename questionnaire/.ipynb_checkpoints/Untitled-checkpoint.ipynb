{
 "cells": [
  {
   "cell_type": "code",
   "execution_count": 30,
   "metadata": {},
   "outputs": [],
   "source": [
    "import csv\n",
    "from typing import List, Dict\n",
    "\n",
    "VERSION = 'v2'\n",
    "csv_file = '[icse 2025] toxic survey - {}.csv'.format(VERSION)\n",
    "\n",
    "ita_to_likert = {'Per nulla tossico': 0, 'Poco tossico': 1, 'Moderatamente tossico': 2, 'Abbastanza tossico': 3, 'Molto tossico': 4}\n",
    "ita_to_genders = {'Femmina': 'F', 'Maschio': 'M'}\n",
    "\n",
    "entries = []\n",
    "keys = ['role', 'experience', 'gender', 'age'] + ['Q{}'.format(i+1) for i in range(30)]\n",
    "\n",
    "def map_value(v):\n",
    "    if v in ita_to_likert:\n",
    "        return ita_to_likert[v]\n",
    "    elif v in ita_to_genders:\n",
    "        return ita_to_genders[v]\n",
    "    elif len(v) == 0:\n",
    "        return None\n",
    "    else:\n",
    "        try:\n",
    "            return int(v)\n",
    "        except ValueError:\n",
    "            return v\n",
    "\n",
    "with open(csv_file) as f:\n",
    "    reader = csv.reader(f)\n",
    "    for i, row in enumerate(reader):\n",
    "        if i == 0:\n",
    "            continue\n",
    "        entries.append({keys[j]: map_value(col) for j, col in enumerate(row)})  "
   ]
  },
  {
   "cell_type": "code",
   "execution_count": 36,
   "metadata": {},
   "outputs": [
    {
     "data": {
      "image/png": "[encoded data removed]",
      "text/plain": [
       "<Figure size 1440x360 with 1 Axes>"
      ]
     },
     "metadata": {
      "needs_background": "light"
     },
     "output_type": "display_data"
    }
   ],
   "source": [
    "import matplotlib.pyplot as plt\n",
    "\n",
    "# Distribuzione score per domanda\n",
    "\n",
    "plt.figure(figsize=(20, 5))\n",
    "\n",
    "x = keys[4:]\n",
    "y = [[e[q] for e in entries if e[q] is not None] for q in x]\n",
    "\n",
    "plt.boxplot(y, labels=x)\n",
    "plt.yticks(ticks=list(ita_to_likert.values()))\n",
    "\n",
    "plt.show()\n"
   ]
  },
  {
   "cell_type": "code",
   "execution_count": null,
   "metadata": {},
   "outputs": [],
   "source": []
  },
  {
   "cell_type": "code",
   "execution_count": null,
   "metadata": {},
   "outputs": [],
   "source": []
  }
 ],
 "metadata": {
  "kernelspec": {
   "display_name": "Python 3",
   "language": "python",
   "name": "python3"
  },
  "language_info": {
   "codemirror_mode": {
    "name": "ipython",
    "version": 3
   },
   "file_extension": ".py",
   "mimetype": "text/x-python",
   "name": "python",
   "nbconvert_exporter": "python",
   "pygments_lexer": "ipython3",
   "version": "3.7.4"
  }
 },
 "nbformat": 4,
 "nbformat_minor": 2
}
